{
 "cells": [
  {
   "cell_type": "markdown",
   "metadata": {},
   "source": [
    "# Invoke the Hugging Face Serverless API\n",
    "\n",
    "Use this notebook to invoke the Hugging Face Serverless API for the task of trying an AI chatbot."
   ]
  },
  {
   "cell_type": "code",
   "execution_count": 5,
   "metadata": {},
   "outputs": [
    {
     "data": {
      "text/plain": [
       "True"
      ]
     },
     "execution_count": 5,
     "metadata": {},
     "output_type": "execute_result"
    }
   ],
   "source": [
    "# hugging face serverless api inference example\n",
    "\n",
    "import json\n",
    "import requests\n",
    "from dotenv import load_dotenv\n",
    "import os\n",
    "\n",
    "# Load environment variables from .env file\n",
    "load_dotenv()"
   ]
  },
  {
   "cell_type": "code",
   "execution_count": 6,
   "metadata": {},
   "outputs": [],
   "source": [
    "# Create a wrapper class for calling various models\n",
    "\n",
    "class HuggingFaceServerless:\n",
    "    \n",
    "    def __init__(self):\n",
    "        self.base_url = \"https://api-inference.huggingface.co/models/\"\n",
    "        hf_token = os.getenv('HF_TOKEN')\n",
    "        self.headers = {\n",
    "            \"Authorization\": f\"Bearer {hf_token}\",\n",
    "            \"Content-Type\": \"application/json\"\n",
    "        }\n",
    "    \n",
    "    def invoke(self, model_name: str, message: str) -> str:\n",
    "        api_url = self.base_url + model_name\n",
    "        payload = {\n",
    "            \"inputs\": message\n",
    "        }\n",
    "        response = requests.post(api_url, headers=self.headers, data=json.dumps(payload))\n",
    "        return response.json()"
   ]
  },
  {
   "cell_type": "code",
   "execution_count": 10,
   "metadata": {},
   "outputs": [],
   "source": [
    "# Create an instance and invoke some models\n",
    "\n",
    "hf = HuggingFaceServerless()\n",
    "\n",
    "#print(hf.invoke(\"google/gemma-3-27b-it\", \"Hello, how are you?\"))\n",
    "#print(hf.invoke(\"facebook/blenderbot-400M-distill\", \"Hello, how are you?\"))\n",
    "#print(hf.invoke(\"microsoft/DialoGPT-large\", \"Hello, how are you?\"))\n",
    "#print(hf.invoke(\"microsoft/DialoGPT-medium\", \"Hello, how are you?\"))"
   ]
  }
 ],
 "metadata": {
  "kernelspec": {
   "display_name": "venv",
   "language": "python",
   "name": "python3"
  },
  "language_info": {
   "codemirror_mode": {
    "name": "ipython",
    "version": 3
   },
   "file_extension": ".py",
   "mimetype": "text/x-python",
   "name": "python",
   "nbconvert_exporter": "python",
   "pygments_lexer": "ipython3",
   "version": "3.12.7"
  }
 },
 "nbformat": 4,
 "nbformat_minor": 2
}
