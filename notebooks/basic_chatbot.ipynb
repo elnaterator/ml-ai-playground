{
 "cells": [
  {
   "cell_type": "markdown",
   "metadata": {},
   "source": [
    "# Invoke the Hugging Face Serverless API\n",
    "\n",
    "Use this notebook to invoke the Hugging Face Serverless API for the task of trying an AI chatbot."
   ]
  }
 ],
 "metadata": {
  "language_info": {
   "name": "python"
  }
 },
 "nbformat": 4,
 "nbformat_minor": 2
}
